{
 "cells": [
  {
   "cell_type": "code",
   "execution_count": 182,
   "id": "06a6f0a7",
   "metadata": {},
   "outputs": [],
   "source": [
    "import pandas as pd\n",
    "import requests"
   ]
  },
  {
   "cell_type": "markdown",
   "id": "862dc3ff",
   "metadata": {},
   "source": [
    "# 12 Juli 2023"
   ]
  },
  {
   "cell_type": "code",
   "execution_count": 183,
   "id": "42cfcee6",
   "metadata": {},
   "outputs": [],
   "source": [
    "url_jaksel = \"https://infopangan.jakarta.go.id/publik/market/id/34\""
   ]
  },
  {
   "cell_type": "code",
   "execution_count": 184,
   "id": "c79d441c",
   "metadata": {},
   "outputs": [],
   "source": [
    "header = {\n",
    "    'User-Agent' : 'Mozilla/5.0 (Windows NT 10.0; Win64; x64) AppleWebKit/537.36 (KHTML, like Gecko) Chrome/114.0.0.0 Safari/537.36'\n",
    "}"
   ]
  },
  {
   "cell_type": "code",
   "execution_count": 185,
   "id": "6f9cd8d3",
   "metadata": {},
   "outputs": [],
   "source": [
    "jaksel_tebet = \"https://infopangan.jakarta.go.id/api/price/lists?mid=34\""
   ]
  },
  {
   "cell_type": "code",
   "execution_count": 186,
   "id": "f8599fa6",
   "metadata": {},
   "outputs": [],
   "source": [
    "# API Request\n",
    "r = requests.get(jaksel_tebet, headers = header).json()"
   ]
  },
  {
   "cell_type": "code",
   "execution_count": 187,
   "id": "541fed44",
   "metadata": {},
   "outputs": [
    {
     "name": "stdout",
     "output_type": "stream",
     "text": [
      "{'status': 'ok', 'message': None, 'data': {'price_date': '2023-07-12', 'compare_date': '2023-07-11', 'location': 'Pasar Tebet Barat', 'prices': [{'commodity_id': '5', 'name': 'Beras IR 42/Pera', 'image_path': 'IR_42_Pera.png', 'image_url': 'https://infopangan.jakarta.go.id/media/komoditas/IR_42_Pera.png', 'unit': 'kg', 'price': 16000, 'price_compare': 16000, 'changed': 0, 'status': 'stagnant', 'notif_price': 0, 'notif_percentage': 0, 'notif_duration': 0, 'notif_limit': 0, 'notif_decreases': 0, 'rise_percentage': '0%', 'rise_duration': 0, 'decrease_percentage': '0.000'}, {'commodity_id': '6', 'name': 'Beras Setra I/Premium', 'image_path': 'Setra_I_Premium.png', 'image_url': 'https://infopangan.jakarta.go.id/media/komoditas/Setra_I_Premium.png', 'unit': 'kg', 'price': 12500, 'price_compare': 12500, 'changed': 0, 'status': 'stagnant', 'notif_price': 0, 'notif_percentage': 0, 'notif_duration': 0, 'notif_limit': 0, 'notif_decreases': 0, 'rise_percentage': '0%', 'rise_duration': 0, 'decrease_percentage': '0.000'}, {'commodity_id': '8', 'name': 'Cabe Merah Keriting', 'image_path': 'cabe-merah-keriting.png', 'image_url': 'https://infopangan.jakarta.go.id/media/komoditas/cabe-merah-keriting.png', 'unit': 'kg', 'price': 45000, 'price_compare': 45000, 'changed': 0, 'status': 'stagnant', 'notif_price': 0, 'notif_percentage': 0, 'notif_duration': 0, 'notif_limit': 0, 'notif_decreases': 1, 'rise_percentage': '0%', 'rise_duration': 0, 'decrease_percentage': '7799.142'}, {'commodity_id': '9', 'name': 'Cabe Merah Besar (TW)', 'image_path': 'cabe-merah-besar.png', 'image_url': 'https://infopangan.jakarta.go.id/media/komoditas/cabe-merah-besar.png', 'unit': 'kg', 'price': 60000, 'price_compare': 60000, 'changed': 0, 'status': 'stagnant', 'notif_price': 0, 'notif_percentage': 0, 'notif_duration': 0, 'notif_limit': 0, 'notif_decreases': 1, 'rise_percentage': '0%', 'rise_duration': 0, 'decrease_percentage': '8345.924'}, {'commodity_id': '10', 'name': 'Cabe Rawit Merah', 'image_path': 'cabe-rawit-merah.png', 'image_url': 'https://infopangan.jakarta.go.id/media/komoditas/cabe-rawit-merah.png', 'unit': 'kg', 'price': 50000, 'price_compare': 50000, 'changed': 0, 'status': 'stagnant', 'notif_price': 0, 'notif_percentage': 0, 'notif_duration': 0, 'notif_limit': 0, 'notif_decreases': 0, 'rise_percentage': '0%', 'rise_duration': 0, 'decrease_percentage': '0.000'}, {'commodity_id': '11', 'name': 'Cabe Rawit Hijau', 'image_path': 'cabe-rawit-hijau.png', 'image_url': 'https://infopangan.jakarta.go.id/media/komoditas/cabe-rawit-hijau.png', 'unit': 'kg', 'price': 50000, 'price_compare': 50000, 'changed': 0, 'status': 'stagnant', 'notif_price': 0, 'notif_percentage': 0, 'notif_duration': 0, 'notif_limit': 0, 'notif_decreases': 0, 'rise_percentage': '0%', 'rise_duration': 0, 'decrease_percentage': '0.000'}, {'commodity_id': '12', 'name': 'Bawang Merah', 'image_path': 'bawang-merah.png', 'image_url': 'https://infopangan.jakarta.go.id/media/komoditas/bawang-merah.png', 'unit': 'kg', 'price': 50000, 'price_compare': 50000, 'changed': 0, 'status': 'stagnant', 'notif_price': 0, 'notif_percentage': 0, 'notif_duration': 0, 'notif_limit': 0, 'notif_decreases': 1, 'rise_percentage': '0%', 'rise_duration': 0, 'decrease_percentage': '5781.267'}, {'commodity_id': '13', 'name': 'Bawang Putih', 'image_path': 'bawang-putih.png', 'image_url': 'https://infopangan.jakarta.go.id/media/komoditas/bawang-putih.png', 'unit': 'kg', 'price': 45000, 'price_compare': 45000, 'changed': 0, 'status': 'stagnant', 'notif_price': 0, 'notif_percentage': 0, 'notif_duration': 0, 'notif_limit': 0, 'notif_decreases': 0, 'rise_percentage': '0%', 'rise_duration': 0, 'decrease_percentage': '0.000'}, {'commodity_id': '16', 'name': 'Ayam Broiler/Ras', 'image_path': 'ayam-broiler-ras.png', 'image_url': 'https://infopangan.jakarta.go.id/media/komoditas/ayam-broiler-ras.png', 'unit': 'ekor', 'price': 48000, 'price_compare': 48000, 'changed': 0, 'status': 'stagnant', 'notif_price': 0, 'notif_percentage': 0, 'notif_duration': 0, 'notif_limit': 0, 'notif_decreases': 1, 'rise_percentage': '0%', 'rise_duration': 0, 'decrease_percentage': '1609.732'}, {'commodity_id': '17', 'name': 'Telur Ayam Ras', 'image_path': 'telur-ayam-ras.png', 'image_url': 'https://infopangan.jakarta.go.id/media/komoditas/telur-ayam-ras.png', 'unit': 'kg', 'price': 32000, 'price_compare': 32000, 'changed': 0, 'status': 'stagnant', 'notif_price': 0, 'notif_percentage': 0, 'notif_duration': 0, 'notif_limit': 0, 'notif_decreases': 0, 'rise_percentage': '0%', 'rise_duration': 0, 'decrease_percentage': '0.000'}, {'commodity_id': '18', 'name': 'Gula Pasir', 'image_path': 'gula-pasir.png', 'image_url': 'https://infopangan.jakarta.go.id/media/komoditas/gula-pasir.png', 'unit': 'kg', 'price': 15000, 'price_compare': 15000, 'changed': 0, 'status': 'stagnant', 'notif_price': 0, 'notif_percentage': 0, 'notif_duration': 0, 'notif_limit': 0, 'notif_decreases': 0, 'rise_percentage': '0%', 'rise_duration': 0, 'decrease_percentage': '0.000'}, {'commodity_id': '19', 'name': 'Tepung Terigu', 'image_path': 'tepung-terigu.png', 'image_url': 'https://infopangan.jakarta.go.id/media/komoditas/tepung-terigu.png', 'unit': 'kg', 'price': 12000, 'price_compare': 12000, 'changed': 0, 'status': 'stagnant', 'notif_price': 0, 'notif_percentage': 0, 'notif_duration': 0, 'notif_limit': 0, 'notif_decreases': 0, 'rise_percentage': '0%', 'rise_duration': 0, 'decrease_percentage': '0.000'}, {'commodity_id': '20', 'name': 'Garam Dapur', 'image_path': 'garam-dapur.png', 'image_url': 'https://infopangan.jakarta.go.id/media/komoditas/garam-dapur.png', 'unit': '250gr', 'price': 3000, 'price_compare': 3000, 'changed': 0, 'status': 'stagnant', 'notif_price': 0, 'notif_percentage': 0, 'notif_duration': 0, 'notif_limit': 0, 'notif_decreases': 0, 'rise_percentage': '0%', 'rise_duration': 0, 'decrease_percentage': '0.000'}, {'commodity_id': '21', 'name': 'Kentang (sedang)', 'image_path': 'kentang.png', 'image_url': 'https://infopangan.jakarta.go.id/media/komoditas/kentang.png', 'unit': 'kg', 'price': 20000, 'price_compare': 20000, 'changed': 0, 'status': 'stagnant', 'notif_price': 0, 'notif_percentage': 0, 'notif_duration': 0, 'notif_limit': 0, 'notif_decreases': 0, 'rise_percentage': '0%', 'rise_duration': 0, 'decrease_percentage': '0.000'}, {'commodity_id': '22', 'name': 'Tomat Buah', 'image_path': 'tomat.png', 'image_url': 'https://infopangan.jakarta.go.id/media/komoditas/tomat.png', 'unit': 'kg', 'price': 16000, 'price_compare': 18000, 'changed': 2000, 'status': 'fall', 'notif_price': 0, 'notif_percentage': 0, 'notif_duration': 0, 'notif_limit': 0, 'notif_decreases': 0, 'rise_percentage': '0%', 'rise_duration': 0, 'decrease_percentage': '0.000'}, {'commodity_id': '23', 'name': 'Kelapa Kupas', 'image_path': 'kelapa-kupas.png', 'image_url': 'https://infopangan.jakarta.go.id/media/komoditas/kelapa-kupas.png', 'unit': 'butir', 'price': 10000, 'price_compare': 10000, 'changed': 0, 'status': 'stagnant', 'notif_price': 0, 'notif_percentage': 0, 'notif_duration': 0, 'notif_limit': 0, 'notif_decreases': 0, 'rise_percentage': '0%', 'rise_duration': 0, 'decrease_percentage': '0.000'}, {'commodity_id': '24', 'name': 'Semangka', 'image_path': 'semangka.png', 'image_url': 'https://infopangan.jakarta.go.id/media/komoditas/semangka.png', 'unit': 'kg', 'price': 10000, 'price_compare': 10000, 'changed': 0, 'status': 'stagnant', 'notif_price': 0, 'notif_percentage': 0, 'notif_duration': 0, 'notif_limit': 0, 'notif_decreases': 0, 'rise_percentage': '0%', 'rise_duration': 0, 'decrease_percentage': '0.000'}, {'commodity_id': '25', 'name': 'Jeruk Medan', 'image_path': 'jeruk-medan.png', 'image_url': 'https://infopangan.jakarta.go.id/media/komoditas/jeruk-medan.png', 'unit': 'kg', 'price': 30000, 'price_compare': 30000, 'changed': 0, 'status': 'stagnant', 'notif_price': 0, 'notif_percentage': 0, 'notif_duration': 0, 'notif_limit': 0, 'notif_decreases': 0, 'rise_percentage': '0%', 'rise_duration': 0, 'decrease_percentage': '0.000'}, {'commodity_id': '14', 'name': 'Daging Sapi Has (Paha Belakang)', 'image_path': 'daging-sapi-paha-belakang.png', 'image_url': 'https://infopangan.jakarta.go.id/media/komoditas/daging-sapi-paha-belakang.png', 'unit': 'kg', 'price': 160000, 'price_compare': 160000, 'changed': 0, 'status': 'stagnant', 'notif_price': 0, 'notif_percentage': 0, 'notif_duration': 0, 'notif_limit': 0, 'notif_decreases': 0, 'rise_percentage': '0%', 'rise_duration': 0, 'decrease_percentage': '247.830'}, {'commodity_id': '15', 'name': 'Daging Sapi Murni (Semur)', 'image_path': 'daging-sapi-murni.png', 'image_url': 'https://infopangan.jakarta.go.id/media/komoditas/daging-sapi-murni.png', 'unit': 'kg', 'price': 150000, 'price_compare': 150000, 'changed': 0, 'status': 'stagnant', 'notif_price': 0, 'notif_percentage': 0, 'notif_duration': 0, 'notif_limit': 0, 'notif_decreases': 1, 'rise_percentage': '0%', 'rise_duration': 0, 'decrease_percentage': '5477.219'}, {'commodity_id': '26', 'name': 'Daging Kambing', 'image_path': 'daging-kambing.png', 'image_url': 'https://infopangan.jakarta.go.id/media/komoditas/daging-kambing.png', 'unit': 'kg', 'price': 145000, 'price_compare': 145000, 'changed': 0, 'status': 'stagnant', 'notif_price': 0, 'notif_percentage': 0, 'notif_duration': 0, 'notif_limit': 0, 'notif_decreases': 0, 'rise_percentage': '0%', 'rise_duration': 0, 'decrease_percentage': '0.000'}, {'commodity_id': '28', 'name': 'Ikan Bandeng (sedang)', 'image_path': 'ikan-bandeng.png', 'image_url': 'https://infopangan.jakarta.go.id/media/komoditas/ikan-bandeng.png', 'unit': 'kg', 'price': 50000, 'price_compare': 50000, 'changed': 0, 'status': 'stagnant', 'notif_price': 0, 'notif_percentage': 0, 'notif_duration': 0, 'notif_limit': 0, 'notif_decreases': 0, 'rise_percentage': '0%', 'rise_duration': 0, 'decrease_percentage': '0.000'}, {'commodity_id': '29', 'name': 'Ikan Mas', 'image_path': 'ikan-mas.png', 'image_url': 'https://infopangan.jakarta.go.id/media/komoditas/ikan-mas.png', 'unit': 'kg', 'price': 40000, 'price_compare': 40000, 'changed': 0, 'status': 'stagnant', 'notif_price': 0, 'notif_percentage': 0, 'notif_duration': 0, 'notif_limit': 0, 'notif_decreases': 0, 'rise_percentage': '0%', 'rise_duration': 0, 'decrease_percentage': '0.000'}, {'commodity_id': '30', 'name': 'Ikan Lele', 'image_path': 'ikan-lele.png', 'image_url': 'https://infopangan.jakarta.go.id/media/komoditas/ikan-lele.png', 'unit': 'kg', 'price': 30000, 'price_compare': 30000, 'changed': 0, 'status': 'stagnant', 'notif_price': 0, 'notif_percentage': 0, 'notif_duration': 0, 'notif_limit': 0, 'notif_decreases': 0, 'rise_percentage': '0%', 'rise_duration': 0, 'decrease_percentage': '0.000'}, {'commodity_id': '34', 'name': 'Susu Kental Bendera 200gr', 'image_path': 'susu-kental-bendera.png', 'image_url': 'https://infopangan.jakarta.go.id/media/komoditas/susu-kental-bendera.png', 'unit': 'klng', 'price': 12000, 'price_compare': 12000, 'changed': 0, 'status': 'stagnant', 'notif_price': 0, 'notif_percentage': 0, 'notif_duration': 0, 'notif_limit': 0, 'notif_decreases': 0, 'rise_percentage': '0%', 'rise_duration': 0, 'decrease_percentage': '0.000'}, {'commodity_id': '35', 'name': 'Susu Kental Enak 200gr', 'image_path': 'susu-kental-enak.png', 'image_url': 'https://infopangan.jakarta.go.id/media/komoditas/susu-kental-enak.png', 'unit': 'klng', 'price': 11000, 'price_compare': 11000, 'changed': 0, 'status': 'stagnant', 'notif_price': 0, 'notif_percentage': 0, 'notif_duration': 0, 'notif_limit': 0, 'notif_decreases': 0, 'rise_percentage': '0%', 'rise_duration': 0, 'decrease_percentage': '0.000'}, {'commodity_id': '36', 'name': 'Margarin Blueband Cup', 'image_path': 'margarin-blueband-cup.png', 'image_url': 'https://infopangan.jakarta.go.id/media/komoditas/margarin-blueband-cup.png', 'unit': 'kms', 'price': 15000, 'price_compare': 15000, 'changed': 0, 'status': 'stagnant', 'notif_price': 0, 'notif_percentage': 0, 'notif_duration': 0, 'notif_limit': 0, 'notif_decreases': 0, 'rise_percentage': '0%', 'rise_duration': 0, 'decrease_percentage': '0.000'}, {'commodity_id': '37', 'name': 'Margarin Blueband Sachet', 'image_path': 'margarin-blueband-sachet.png', 'image_url': 'https://infopangan.jakarta.go.id/media/komoditas/margarin-blueband-sachet.png', 'unit': 'kms', 'price': 11000, 'price_compare': 11000, 'changed': 0, 'status': 'stagnant', 'notif_price': 0, 'notif_percentage': 0, 'notif_duration': 0, 'notif_limit': 0, 'notif_decreases': 0, 'rise_percentage': '0%', 'rise_duration': 0, 'decrease_percentage': '0.000'}]}}\n"
     ]
    }
   ],
   "source": [
    "print(r)"
   ]
  },
  {
   "cell_type": "code",
   "execution_count": 188,
   "id": "22f809cc",
   "metadata": {},
   "outputs": [],
   "source": [
    "# scraping\n",
    "name_product_list = []\n",
    "price_list = []\n",
    "prev_price_list = []\n",
    "change_price_list = []\n",
    "satuan_list = []\n",
    "\n",
    "product_data = r['data']['prices']\n",
    "\n",
    "for item in product_data:\n",
    "    name_product_list.append(item['name'])\n",
    "    price_list.append(item['price'])\n",
    "    prev_price_list.append(item['price_compare'])\n",
    "    change_price_list.append(item['changed'])\n",
    "    satuan_list.append(item['unit'])"
   ]
  },
  {
   "cell_type": "code",
   "execution_count": 189,
   "id": "4ad9c244",
   "metadata": {},
   "outputs": [
    {
     "name": "stdout",
     "output_type": "stream",
     "text": [
      "Data has been saved to jaksel_pasar_tebet_12_juli.csv\n"
     ]
    }
   ],
   "source": [
    "import csv\n",
    "\n",
    "# combine\n",
    "rows = zip(name_product_list, price_list, prev_price_list, change_price_list, satuan_list)\n",
    "\n",
    "csv_file = 'jaksel_pasar_tebet_12_juli.csv'\n",
    "\n",
    "# write to csv\n",
    "with open(csv_file, 'w', newline = '', encoding = 'utf-8') as file:\n",
    "    writer = csv.writer(file)\n",
    "    \n",
    "    # write the header row\n",
    "    writer.writerow(['nama_produk', 'harga_produk', 'harga_sebelumnya', 'perubahan_harga', 'satuan'])\n",
    "    \n",
    "    # write rows\n",
    "    writer.writerows(rows)\n",
    "    \n",
    "print(\"Data has been saved to\", csv_file)"
   ]
  },
  {
   "cell_type": "code",
   "execution_count": 190,
   "id": "c8f73afc",
   "metadata": {},
   "outputs": [],
   "source": [
    "jaksel_pasming = \"https://infopangan.jakarta.go.id/api/price/lists?mid=9\""
   ]
  },
  {
   "cell_type": "code",
   "execution_count": 191,
   "id": "be8d61e8",
   "metadata": {},
   "outputs": [],
   "source": [
    "# API Request\n",
    "r = requests.get(jaksel_pasming, headers = header).json()"
   ]
  },
  {
   "cell_type": "code",
   "execution_count": 192,
   "id": "b5a71aa7",
   "metadata": {},
   "outputs": [],
   "source": [
    "# scraping\n",
    "name_product_list = []\n",
    "price_list = []\n",
    "prev_price_list = []\n",
    "change_price_list = []\n",
    "satuan_list = []\n",
    "\n",
    "product_data = r['data']['prices']\n",
    "\n",
    "for item in product_data:\n",
    "    name_product_list.append(item['name'])\n",
    "    price_list.append(item['price'])\n",
    "    prev_price_list.append(item['price_compare'])\n",
    "    change_price_list.append(item['changed'])\n",
    "    satuan_list.append(item['unit'])"
   ]
  },
  {
   "cell_type": "code",
   "execution_count": 193,
   "id": "5448944d",
   "metadata": {},
   "outputs": [
    {
     "name": "stdout",
     "output_type": "stream",
     "text": [
      "Data has been saved to jaksel_pasar_minggu_12_juli.csv\n"
     ]
    }
   ],
   "source": [
    "import csv\n",
    "\n",
    "# combine\n",
    "rows = zip(name_product_list, price_list, prev_price_list, change_price_list, satuan_list)\n",
    "\n",
    "csv_file = 'jaksel_pasar_minggu_12_juli.csv'\n",
    "\n",
    "# write to csv\n",
    "with open(csv_file, 'w', newline = '', encoding = 'utf-8') as file:\n",
    "    writer = csv.writer(file)\n",
    "    \n",
    "    # write the header row\n",
    "    writer.writerow(['nama_produk', 'harga_produk', 'harga_sebelumnya', 'perubahan_harga', 'satuan'])\n",
    "    \n",
    "    # write rows\n",
    "    writer.writerows(rows)\n",
    "    \n",
    "print(\"Data has been saved to\", csv_file)"
   ]
  },
  {
   "cell_type": "code",
   "execution_count": 194,
   "id": "84830b49",
   "metadata": {},
   "outputs": [],
   "source": [
    "jaksel_kebayoran_lama = \"https://infopangan.jakarta.go.id/api/price/lists?mid=28\""
   ]
  },
  {
   "cell_type": "code",
   "execution_count": 195,
   "id": "fc2f9e47",
   "metadata": {},
   "outputs": [],
   "source": [
    "# API Request\n",
    "r = requests.get(jaksel_kebayoran_lama, headers = header).json()"
   ]
  },
  {
   "cell_type": "code",
   "execution_count": 197,
   "id": "9ff6cdae",
   "metadata": {},
   "outputs": [],
   "source": [
    "# scraping\n",
    "name_product_list = []\n",
    "price_list = []\n",
    "prev_price_list = []\n",
    "change_price_list = []\n",
    "satuan_list = []\n",
    "\n",
    "product_data = r['data']['prices']\n",
    "\n",
    "for item in product_data:\n",
    "    name_product_list.append(item['name'])\n",
    "    price_list.append(item['price'])\n",
    "    prev_price_list.append(item['price_compare'])\n",
    "    change_price_list.append(item['changed'])\n",
    "    satuan_list.append(item['unit'])"
   ]
  },
  {
   "cell_type": "code",
   "execution_count": 198,
   "id": "874161bc",
   "metadata": {},
   "outputs": [
    {
     "name": "stdout",
     "output_type": "stream",
     "text": [
      "Data has been saved to jaksel_kebayoran_lama_12_juli.csv\n"
     ]
    }
   ],
   "source": [
    "import csv\n",
    "\n",
    "# combine\n",
    "rows = zip(name_product_list, price_list, prev_price_list, change_price_list, satuan_list)\n",
    "\n",
    "csv_file = 'jaksel_kebayoran_lama_12_juli.csv'\n",
    "\n",
    "# write to csv\n",
    "with open(csv_file, 'w', newline = '', encoding = 'utf-8') as file:\n",
    "    writer = csv.writer(file)\n",
    "    \n",
    "    # write the header row\n",
    "    writer.writerow(['nama_produk', 'harga_produk', 'harga_sebelumnya', 'perubahan_harga', 'satuan'])\n",
    "    \n",
    "    # write rows\n",
    "    writer.writerows(rows)\n",
    "    \n",
    "print(\"Data has been saved to\", csv_file)"
   ]
  },
  {
   "cell_type": "code",
   "execution_count": 199,
   "id": "46cebfa0",
   "metadata": {},
   "outputs": [],
   "source": [
    "jaksel_cipete = \"https://infopangan.jakarta.go.id/api/price/lists?mid=29\""
   ]
  },
  {
   "cell_type": "code",
   "execution_count": 200,
   "id": "f32582f7",
   "metadata": {},
   "outputs": [],
   "source": [
    "# API Request\n",
    "r = requests.get(jaksel_cipete, headers = header).json()"
   ]
  },
  {
   "cell_type": "code",
   "execution_count": 201,
   "id": "cb6c991a",
   "metadata": {},
   "outputs": [],
   "source": [
    "# scraping\n",
    "name_product_list = []\n",
    "price_list = []\n",
    "prev_price_list = []\n",
    "change_price_list = []\n",
    "satuan_list = []\n",
    "\n",
    "product_data = r['data']['prices']\n",
    "\n",
    "for item in product_data:\n",
    "    name_product_list.append(item['name'])\n",
    "    price_list.append(item['price'])\n",
    "    prev_price_list.append(item['price_compare'])\n",
    "    change_price_list.append(item['changed'])\n",
    "    satuan_list.append(item['unit'])"
   ]
  },
  {
   "cell_type": "code",
   "execution_count": 202,
   "id": "a4f5aa6c",
   "metadata": {},
   "outputs": [
    {
     "name": "stdout",
     "output_type": "stream",
     "text": [
      "Data has been saved to jaksel_cipete_12_juli.csv\n"
     ]
    }
   ],
   "source": [
    "import csv\n",
    "\n",
    "# combine\n",
    "rows = zip(name_product_list, price_list, prev_price_list, change_price_list, satuan_list)\n",
    "\n",
    "csv_file = 'jaksel_cipete_12_juli.csv'\n",
    "\n",
    "# write to csv\n",
    "with open(csv_file, 'w', newline = '', encoding = 'utf-8') as file:\n",
    "    writer = csv.writer(file)\n",
    "    \n",
    "    # write the header row\n",
    "    writer.writerow(['nama_produk', 'harga_produk', 'harga_sebelumnya', 'perubahan_harga', 'satuan'])\n",
    "    \n",
    "    # write rows\n",
    "    writer.writerows(rows)\n",
    "    \n",
    "print(\"Data has been saved to\", csv_file)"
   ]
  },
  {
   "cell_type": "code",
   "execution_count": 203,
   "id": "c0b13834",
   "metadata": {},
   "outputs": [],
   "source": [
    "jaksel_la = \"https://infopangan.jakarta.go.id/api/price/lists?mid=32\""
   ]
  },
  {
   "cell_type": "code",
   "execution_count": 204,
   "id": "2fa28b62",
   "metadata": {},
   "outputs": [],
   "source": [
    "# API Request\n",
    "r = requests.get(jaksel_la, headers = header).json()"
   ]
  },
  {
   "cell_type": "code",
   "execution_count": 205,
   "id": "2b34e5a7",
   "metadata": {},
   "outputs": [],
   "source": [
    "# scraping\n",
    "name_product_list = []\n",
    "price_list = []\n",
    "prev_price_list = []\n",
    "change_price_list = []\n",
    "satuan_list = []\n",
    "\n",
    "product_data = r['data']['prices']\n",
    "\n",
    "for item in product_data:\n",
    "    name_product_list.append(item['name'])\n",
    "    price_list.append(item['price'])\n",
    "    prev_price_list.append(item['price_compare'])\n",
    "    change_price_list.append(item['changed'])\n",
    "    satuan_list.append(item['unit'])"
   ]
  },
  {
   "cell_type": "code",
   "execution_count": 206,
   "id": "4efb7997",
   "metadata": {},
   "outputs": [
    {
     "name": "stdout",
     "output_type": "stream",
     "text": [
      "Data has been saved to jaksel_la_12_juli.csv\n"
     ]
    }
   ],
   "source": [
    "import csv\n",
    "\n",
    "# combine\n",
    "rows = zip(name_product_list, price_list, prev_price_list, change_price_list, satuan_list)\n",
    "\n",
    "csv_file = 'jaksel_la_12_juli.csv'\n",
    "\n",
    "# write to csv\n",
    "with open(csv_file, 'w', newline = '', encoding = 'utf-8') as file:\n",
    "    writer = csv.writer(file)\n",
    "    \n",
    "    # write the header row\n",
    "    writer.writerow(['nama_produk', 'harga_produk', 'harga_sebelumnya', 'perubahan_harga', 'satuan'])\n",
    "    \n",
    "    # write rows\n",
    "    writer.writerows(rows)\n",
    "    \n",
    "print(\"Data has been saved to\", csv_file)"
   ]
  },
  {
   "cell_type": "code",
   "execution_count": null,
   "id": "d33f71c4",
   "metadata": {},
   "outputs": [],
   "source": []
  }
 ],
 "metadata": {
  "kernelspec": {
   "display_name": "Python 3 (ipykernel)",
   "language": "python",
   "name": "python3"
  },
  "language_info": {
   "codemirror_mode": {
    "name": "ipython",
    "version": 3
   },
   "file_extension": ".py",
   "mimetype": "text/x-python",
   "name": "python",
   "nbconvert_exporter": "python",
   "pygments_lexer": "ipython3",
   "version": "3.9.12"
  }
 },
 "nbformat": 4,
 "nbformat_minor": 5
}
